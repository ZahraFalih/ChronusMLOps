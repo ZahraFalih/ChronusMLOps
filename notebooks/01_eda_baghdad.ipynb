{
 "cells": [
  {
   "cell_type": "markdown",
   "metadata": {},
   "source": [
    "## 1: imports & MLflow setup "
   ]
  },
  {
   "cell_type": "code",
   "execution_count": null,
   "metadata": {},
   "outputs": [],
   "source": [
    "import pandas as pd, mlflow, matplotlib.pyplot as plt, seaborn as sns, os, json, pathlib, numpy as np\n",
    "\n",
    "mlflow.set_tracking_uri(\"http://localhost:5000\")   # assumes launcher is running\n",
    "EXPERIMENT_NAME = \"Baghdad‑Housing‑EDA\"\n",
    "mlflow.set_experiment(EXPERIMENT_NAME)"
   ]
  },
  {
   "cell_type": "markdown",
   "metadata": {},
   "source": [
    "## 2: load data"
   ]
  },
  {
   "cell_type": "code",
   "execution_count": null,
   "metadata": {},
   "outputs": [],
   "source": [
    "DATA_PATH = \"../data/raw/baghdad_mansour_houses.csv\"\n",
    "df = pd.read_csv(DATA_PATH)\n",
    "df.head()"
   ]
  },
  {
   "cell_type": "markdown",
   "metadata": {},
   "source": [
    "### Cell 3: quick summary"
   ]
  },
  {
   "cell_type": "code",
   "execution_count": null,
   "metadata": {},
   "outputs": [],
   "source": [
    "row_count, col_count = df.shape\n",
    "missing_pct = df.isna().mean().mean() * 100\n",
    "\n",
    "# basic statistics\n",
    "summary = df.describe(include=\"all\").transpose()\n",
    "\n",
    "display(summary)\n",
    "print(f\"Rows: {row_count} | Cols: {col_count} | Missing %.2f%%\" % missing_pct)"
   ]
  },
  {
   "cell_type": "markdown",
   "metadata": {},
   "source": [
    "## 3: Plotting to get more insights\n",
    "### property types, category, condition, furnished bar plot"
   ]
  },
  {
   "cell_type": "code",
   "execution_count": null,
   "metadata": {},
   "outputs": [],
   "source": [
    "#set up the figure with 2x2 subplots\n",
    "fig, axes = plt.subplots(2, 2, figsize=(14, 10))\n",
    "sns.set(style=\"whitegrid\")\n",
    "\n",
    "# Plot 1: Property Type\n",
    "sns.countplot(data=df, x=\"type\", order=df[\"type\"].value_counts().index, ax=axes[0, 0], palette=\"Set2\")\n",
    "axes[0, 0].set_title(\"Property Type\")\n",
    "axes[0, 0].set_xlabel(\"\")\n",
    "axes[0, 0].tick_params(axis='x', rotation=45)\n",
    "\n",
    "# Plot 2: Category\n",
    "sns.countplot(data=df, x=\"category\", order=df[\"category\"].value_counts().index, ax=axes[0, 1], palette=\"Set3\")\n",
    "axes[0, 1].set_title(\"Listing Category\")\n",
    "axes[0, 1].set_xlabel(\"\")\n",
    "axes[0, 1].tick_params(axis='x', rotation=45)\n",
    "\n",
    "# Plot 3: Condition\n",
    "sns.countplot(data=df, x=\"condition\", order=df[\"condition\"].value_counts().index, ax=axes[1, 0], palette=\"Pastel1\")\n",
    "axes[1, 0].set_title(\"Condition of Property\")\n",
    "axes[1, 0].set_xlabel(\"\")\n",
    "axes[1, 0].tick_params(axis='x', rotation=45)\n",
    "\n",
    "# Plot 4: Furnished\n",
    "sns.countplot(data=df, x=\"furnished\", order=df[\"furnished\"].value_counts().index, ax=axes[1, 1], palette=\"coolwarm\")\n",
    "axes[1, 1].set_title(\"Furnished Status\")\n",
    "axes[1, 1].set_xlabel(\"\")\n",
    "axes[1, 1].tick_params(axis='x', rotation=45)\n",
    "\n",
    "plt.tight_layout()\n",
    "plt.show()\n"
   ]
  },
  {
   "cell_type": "markdown",
   "metadata": {},
   "source": [
    "### Histogram for bedrooms"
   ]
  },
  {
   "cell_type": "code",
   "execution_count": null,
   "metadata": {},
   "outputs": [],
   "source": [
    "# Set up a 2x2 plot for histogram distributions\n",
    "fig, axes = plt.subplots(2, 2, figsize=(14, 10))\n",
    "sns.set(style=\"whitegrid\")\n",
    "\n",
    "# Histogram 1: Bedrooms\n",
    "sns.histplot(data=df, x=\"Bedrooms\", bins=10, kde=True, ax=axes[0, 0], color=\"skyblue\")\n",
    "axes[0, 0].set_title(\"Distribution of Bedrooms\")\n",
    "axes[0, 0].set_xlabel(\"Number of Bedrooms\")\n",
    "axes[0, 0].set_ylabel(\"Frequency\")\n",
    "\n",
    "# Histogram 2: Bathrooms\n",
    "sns.histplot(data=df, x=\"bathrooms\", bins=10, kde=True, ax=axes[0, 1], color=\"lightgreen\")\n",
    "axes[0, 1].set_title(\"Distribution of Bathrooms\")\n",
    "axes[0, 1].set_xlabel(\"Number of Bathrooms\")\n",
    "axes[0, 1].set_ylabel(\"Frequency\")\n",
    "\n",
    "# Histogram 3: Rent Price USD\n",
    "sns.histplot(data=df, x=\"rent_price_usd\", bins=15, kde=True, ax=axes[1, 0], color=\"coral\")\n",
    "axes[1, 0].set_title(\"Distribution of Rent Price (USD)\")\n",
    "axes[1, 0].set_xlabel(\"USD Price\")\n",
    "axes[1, 0].set_ylabel(\"Frequency\")\n",
    "\n",
    "# Histogram 4: Rent Price IQD\n",
    "sns.histplot(data=df, x=\"rent_price_iqdr\", bins=15, kde=True, ax=axes[1, 1], color=\"plum\")\n",
    "axes[1, 1].set_title(\"Distribution of Rent Price (IQD)\")\n",
    "axes[1, 1].set_xlabel(\"IQD Price\")\n",
    "axes[1, 1].set_ylabel(\"Frequency\")\n",
    "\n",
    "# Layout\n",
    "plt.tight_layout()\n",
    "plt.show()"
   ]
  },
  {
   "cell_type": "markdown",
   "metadata": {},
   "source": [
    "### Line plot \n",
    "#### Spot trends over time"
   ]
  },
  {
   "cell_type": "code",
   "execution_count": null,
   "metadata": {},
   "outputs": [],
   "source": [
    "\n",
    "type_df = filtered_df.dropna(subset=[\"type\", \"rent_price_usd\"])\n",
    "\n",
    "type_df[\"listing_date\"] = pd.to_datetime(type_df[\"listing_date\"])\n",
    "type_df = type_df.set_index(\"listing_date\")\n",
    "\n",
    "weekly_by_type = (\n",
    "    type_df.groupby(\"type\")[\"rent_price_usd\"]\n",
    "    .resample(\"W\")\n",
    "    .mean()\n",
    "    .reset_index()\n",
    ")\n",
    "\n",
    "plt.figure(figsize=(14, 6))\n",
    "sns.lineplot(data=weekly_by_type, x=\"listing_date\", y=\"rent_price_usd\", hue=\"type\", marker=\"o\")\n",
    "plt.title(\"Weekly Average Rent Price by Property Type\")\n",
    "plt.xlabel(\"Week\")\n",
    "plt.ylabel(\"Average Rent Price (USD)\")\n",
    "plt.legend(title=\"Property Type\")\n",
    "plt.xticks(rotation=45)\n",
    "plt.tight_layout()\n",
    "plt.show()\n"
   ]
  },
  {
   "cell_type": "markdown",
   "metadata": {},
   "source": [
    "### Heatmap\n",
    "#### Check for multicollinearity and strong correlations"
   ]
  },
  {
   "cell_type": "code",
   "execution_count": null,
   "metadata": {},
   "outputs": [],
   "source": [
    "numeric_df = df.copy()\n",
    "numeric_columns = [\"Bedrooms\", \"bathrooms\", \"rent_price_usd\", \"rent_price_iqdr\", \"sqmt_street\", \"year_built\"]\n",
    "\n",
    "for col in numeric_columns:\n",
    "    numeric_df[col] = pd.to_numeric(numeric_df[col], errors=\"coerce\")\n",
    "\n",
    "corr_matrix = numeric_df[numeric_columns].corr()\n",
    "\n",
    "plt.figure(figsize=(8, 6))\n",
    "sns.heatmap(corr_matrix, annot=True, cmap=\"coolwarm\", linewidths=0.5, fmt=\".2f\")\n",
    "plt.title(\"Correlation Heatmap of Numeric Features\")\n",
    "plt.tight_layout()\n",
    "plt.show()\n"
   ]
  },
  {
   "cell_type": "markdown",
   "metadata": {},
   "source": [
    "### Pie Chart \n",
    "#### Top areas with most listings"
   ]
  },
  {
   "cell_type": "code",
   "execution_count": null,
   "metadata": {},
   "outputs": [],
   "source": [
    "location_df = df[[\"county\", \"neighbourhood\"]].dropna()\n",
    "\n",
    "top_counties = location_df[\"county\"].value_counts().head(5)\n",
    "top_neighbourhoods = location_df[\"neighbourhood\"].value_counts().head(5)\n",
    "\n",
    "fig, axes = plt.subplots(1, 2, figsize=(14, 6))\n",
    "\n",
    "axes[0].pie(top_counties, labels=top_counties.index, autopct=\"%1.1f%%\", startangle=140, colors=sns.color_palette(\"pastel\"))\n",
    "axes[0].set_title(\"Top 5 Counties by Listing Count\")\n",
    "\n",
    "axes[1].pie(top_neighbourhoods, labels=top_neighbourhoods.index, autopct=\"%1.1f%%\", startangle=140, colors=sns.color_palette(\"Set3\"))\n",
    "axes[1].set_title(\"Top 5 Neighbourhoods by Listing Count\")\n",
    "\n",
    "plt.tight_layout()\n",
    "plt.show()\n"
   ]
  },
  {
   "cell_type": "markdown",
   "metadata": {},
   "source": [
    "### Scatter Plot\n",
    "#### Understand relationships"
   ]
  },
  {
   "cell_type": "code",
   "execution_count": null,
   "metadata": {},
   "outputs": [],
   "source": [
    "scatter_df = df[[\"Bedrooms\", \"rent_price_usd\", \"sqmt_street\"]].copy()\n",
    "scatter_df[\"Bedrooms\"] = pd.to_numeric(scatter_df[\"Bedrooms\"], errors=\"coerce\")\n",
    "scatter_df[\"rent_price_usd\"] = pd.to_numeric(scatter_df[\"rent_price_usd\"], errors=\"coerce\")\n",
    "scatter_df[\"sqmt_street\"] = pd.to_numeric(scatter_df[\"sqmt_street\"], errors=\"coerce\")\n",
    "\n",
    "scatter_df = scatter_df.dropna(subset=[\"Bedrooms\", \"rent_price_usd\", \"sqmt_street\"])\n",
    "\n",
    "fig, axes = plt.subplots(1, 2, figsize=(14, 6))\n",
    "\n",
    "sns.scatterplot(data=scatter_df, x=\"Bedrooms\", y=\"rent_price_usd\", ax=axes[0], color=\"slateblue\", alpha=0.6)\n",
    "axes[0].set_title(\"Bedrooms vs. Rent Price (USD)\")\n",
    "axes[0].set_xlabel(\"Number of Bedrooms\")\n",
    "axes[0].set_ylabel(\"Rent Price (USD)\")\n",
    "\n",
    "sns.scatterplot(data=scatter_df, x=\"sqmt_street\", y=\"rent_price_usd\", ax=axes[1], color=\"tomato\", alpha=0.6)\n",
    "axes[1].set_title(\"Street Size (sqm) vs. Rent Price (USD)\")\n",
    "axes[1].set_xlabel(\"Street Size (sqm)\")\n",
    "axes[1].set_ylabel(\"Rent Price (USD)\")\n",
    "\n",
    "plt.tight_layout()\n",
    "plt.show()\n"
   ]
  },
  {
   "cell_type": "markdown",
   "metadata": {},
   "source": [
    "### Count Plot\n",
    "#### Explore presence/absence of features"
   ]
  },
  {
   "cell_type": "code",
   "execution_count": null,
   "metadata": {},
   "outputs": [],
   "source": [
    "cols_to_plot = [\"balcony\", \"master bedroom\", \"area_type\", \"view\"]\n",
    "\n",
    "fig, axes = plt.subplots(2, 2, figsize=(14, 10))\n",
    "sns.set(style=\"whitegrid\")\n",
    "\n",
    "for i, col in enumerate(cols_to_plot):\n",
    "    ax = axes[i // 2, i % 2]\n",
    "    sns.countplot(data=df, x=col, order=df[col].value_counts().index, ax=ax, palette=\"Set2\")\n",
    "    ax.set_title(f\"Count Plot: {col}\")\n",
    "    ax.set_xlabel(\"\")\n",
    "    ax.tick_params(axis='x', rotation=45)\n",
    "\n",
    "plt.tight_layout()\n",
    "plt.show()\n"
   ]
  },
  {
   "cell_type": "markdown",
   "metadata": {},
   "source": [
    "### Violin Plot\n",
    "#### Visualize distributions per condition in more detail"
   ]
  },
  {
   "cell_type": "code",
   "execution_count": null,
   "metadata": {},
   "outputs": [],
   "source": [
    "violin_df = df[[\"rent_price_usd\", \"condition\"]].copy()\n",
    "violin_df[\"rent_price_usd\"] = pd.to_numeric(violin_df[\"rent_price_usd\"], errors=\"coerce\")\n",
    "violin_df = violin_df.dropna()\n",
    "\n",
    "plt.figure(figsize=(10, 6))\n",
    "sns.violinplot(data=violin_df, x=\"condition\", y=\"rent_price_usd\", palette=\"Set3\", inner=\"box\")\n",
    "plt.title(\"Distribution of Rent Price (USD) by Condition\")\n",
    "plt.xlabel(\"Condition\")\n",
    "plt.ylabel(\"Rent Price (USD)\")\n",
    "plt.xticks(rotation=45)\n",
    "plt.tight_layout()\n",
    "plt.show()\n"
   ]
  },
  {
   "cell_type": "markdown",
   "metadata": {},
   "source": [
    "## 4: Clean up\n",
    "#### 1. columns clean up \n",
    "##### 1.a property cleanup"
   ]
  },
  {
   "cell_type": "code",
   "execution_count": null,
   "metadata": {},
   "outputs": [],
   "source": [
    "df[\"type\"] = df[\"type\"].str.lower()\n",
    "\n",
    "type_counts = df[\"type\"].value_counts(dropna=False)\n",
    "type_counts\n",
    "\n",
    "df[\"type\"] = df[\"type\"].replace({\n",
    "    \"building\": \"other\",\n",
    "    \"3 floors apartment building\": \"other\"\n",
    "})\n",
    "\n",
    "cleaned_type_counts = df[\"type\"].value_counts(dropna=False)\n",
    "cleaned_type_counts"
   ]
  },
  {
   "cell_type": "markdown",
   "metadata": {},
   "source": [
    "##### 1.b category cleanup"
   ]
  },
  {
   "cell_type": "code",
   "execution_count": null,
   "metadata": {},
   "outputs": [],
   "source": [
    "df[\"category\"] = df[\"category\"].str.lower()\n",
    "\n",
    "df[\"category\"] = df[\"category\"].replace({\n",
    "    \"sell\": \"sale\",\n",
    "    \"buy\": \"sale\"\n",
    "})\n",
    "\n",
    "cleaned_category_counts = df[\"category\"].value_counts(dropna=False)\n",
    "cleaned_category_counts\n"
   ]
  },
  {
   "cell_type": "markdown",
   "metadata": {},
   "source": [
    "##### 1.c condition cleanup"
   ]
  },
  {
   "cell_type": "code",
   "execution_count": null,
   "metadata": {},
   "outputs": [],
   "source": [
    "df[\"condition\"] = df[\"condition\"].str.lower()\n",
    "\n",
    "df[\"condition\"] = df[\"condition\"].replace({\n",
    "    \"excellent\": \"new\",\n",
    "    \"lickable\": \"new\",\n",
    "    \"under construction\": \"new\",\n",
    "    \"average\": \"good\",\n",
    "    \"medium\": \"good\",\n",
    "    \"bad\": \"old\",\n",
    "    \"good\":\"good\"\n",
    "})\n",
    "\n",
    "cleaned_condition_counts = df[\"condition\"].value_counts(dropna=False)\n",
    "cleaned_condition_counts\n"
   ]
  },
  {
   "cell_type": "markdown",
   "metadata": {},
   "source": [
    "##### 1.d furnished cleanup"
   ]
  },
  {
   "cell_type": "code",
   "execution_count": null,
   "metadata": {},
   "outputs": [],
   "source": [
    "df[\"furnished\"] = df[\"furnished\"].str.lower()\n",
    "\n",
    "df[\"furnished\"] = df[\"furnished\"].replace({\n",
    "    \"yes\": \"fully\",\n",
    "    \"2\": pd.NA\n",
    "})\n",
    "\n",
    "cleaned_furnished_counts = df[\"furnished\"].value_counts(dropna=False)\n",
    "cleaned_furnished_counts\n"
   ]
  },
  {
   "cell_type": "markdown",
   "metadata": {},
   "source": [
    "##### 1.e balcony cleanup"
   ]
  },
  {
   "cell_type": "code",
   "execution_count": null,
   "metadata": {},
   "outputs": [],
   "source": [
    "df[\"balcony\"] = pd.to_numeric(df[\"balcony\"], errors=\"coerce\")\n",
    "\n",
    "df[\"balcony\"].dtype\n"
   ]
  },
  {
   "cell_type": "markdown",
   "metadata": {},
   "source": [
    "##### 1.f view cleanup"
   ]
  },
  {
   "cell_type": "code",
   "execution_count": null,
   "metadata": {},
   "outputs": [],
   "source": [
    "df[\"view\"] = df[\"view\"].str.strip().str.lower()\n",
    "\n",
    "view_replacements = {\n",
    "    \"shamaliye\": \"north\",\n",
    "    \"shamalya\": \"north\",\n",
    "    \"shamaliya\": \"north\",\n",
    "    \"شمالية\": \"north\",\n",
    "    \"shamaliye sharqiye\": \"north\",\n",
    "    \"shamalya gharbiya\": \"north\",\n",
    "\n",
    "    \"gharbia\": \"west\",\n",
    "    \"gharbiye\": \"west\",\n",
    "    \"غربية\": \"west\",\n",
    "\n",
    "    \"sharqiye\": \"east\",\n",
    "    \"sharqiya\": \"east\",\n",
    "\n",
    "    \"naighbourhood\": \"neighbourhood\",\n",
    "    \"neighnourhood\": \"neighbourhood\",\n",
    "    \"internal neighbourhood\": \"neighbourhood\"\n",
    "}\n",
    "view_replacements.update({\n",
    "    \"shamalya\": \"north\",\n",
    "    \"shamaliye\": \"north\",\n",
    "    \"shamlaiye\": \"north\",\n",
    "    \"shamaliya gharbiya\": \"north\",\n",
    "    \"shamaliye sharqiye\": \"north\"\n",
    "})\n",
    "\n",
    "df[\"view\"] = df[\"view\"].replace(view_replacements)\n",
    "cleaned_view_counts = df[\"view\"].value_counts(dropna=False)\n",
    "cleaned_view_counts\n"
   ]
  },
  {
   "cell_type": "markdown",
   "metadata": {},
   "source": [
    "##### 1.g ID cleanup"
   ]
  },
  {
   "cell_type": "code",
   "execution_count": null,
   "metadata": {},
   "outputs": [],
   "source": [
    "df.drop(columns=[\"ID\"], inplace=True)\n",
    "\n",
    "df.insert(0, \"ID\", range(1, len(df) + 1))\n",
    "\n",
    "df[[\"ID\"]].head()\n"
   ]
  },
  {
   "cell_type": "markdown",
   "metadata": {},
   "source": [
    "##### 1.h listing_date cleanup"
   ]
  },
  {
   "cell_type": "code",
   "execution_count": null,
   "metadata": {},
   "outputs": [],
   "source": [
    "df[\"listing_date\"] = pd.to_datetime(df[\"listing_date\"], errors=\"coerce\")\n",
    "\n",
    "df[\"listing_date\"].dtype\n"
   ]
  },
  {
   "cell_type": "markdown",
   "metadata": {},
   "source": [
    "##### 1.I bedrooms cleanup"
   ]
  },
  {
   "cell_type": "code",
   "execution_count": null,
   "metadata": {},
   "outputs": [],
   "source": [
    "df[\"Bedrooms\"] = df[\"Bedrooms\"].replace(\"studio\", 0)\n",
    "\n",
    "df[\"Bedrooms\"] = pd.to_numeric(df[\"Bedrooms\"], errors=\"coerce\")\n",
    "\n",
    "df[\"Bedrooms\"].value_counts(dropna=False).sort_index()\n"
   ]
  },
  {
   "cell_type": "markdown",
   "metadata": {},
   "source": [
    "##### 1.j master_bedroom drop"
   ]
  },
  {
   "cell_type": "code",
   "execution_count": null,
   "metadata": {},
   "outputs": [],
   "source": [
    "df.drop(columns=[\"master bedroom\"], inplace=True)\n",
    "\n",
    "\"master bedroom\" not in df.columns\n"
   ]
  },
  {
   "cell_type": "markdown",
   "metadata": {},
   "source": [
    "##### 1.k floor_apartment cleanup"
   ]
  },
  {
   "cell_type": "code",
   "execution_count": null,
   "metadata": {},
   "outputs": [],
   "source": [
    "df[\"floor_apartment\"] = df[\"floor_apartment\"].replace(\"10 +\", 10)\n",
    "\n",
    "df[\"floor_apartment\"] = pd.to_numeric(df[\"floor_apartment\"], errors=\"coerce\")\n",
    "\n",
    "df[\"floor_apartment\"].value_counts(dropna=False).sort_index()\n"
   ]
  },
  {
   "cell_type": "markdown",
   "metadata": {},
   "source": [
    "##### 1.l neighbourhood cleanup"
   ]
  },
  {
   "cell_type": "code",
   "execution_count": null,
   "metadata": {},
   "outputs": [],
   "source": [
    "df[\"neighbourhood\"] = df[\"neighbourhood\"].str.strip().str.lower()\n",
    "\n",
    "neighbourhood_replacements = {\n",
    "    \"beijeia\": \"beiji\",\n",
    "    \"beijia\": \"beiji\",\n",
    "    \"muhandeseen\": \"mohandeseen\",\n",
    "    \"dawoodi 611\": \"dawoodi\",\n",
    "    \"dawoodi. 611\": \"dawoodi\",\n",
    "    \"masour city in beija\": \"mansour city\",\n",
    "    \"mansour city complex\": \"mansour city\"\n",
    "}\n",
    "\n",
    "df[\"neighbourhood\"] = df[\"neighbourhood\"].replace(neighbourhood_replacements)\n",
    "\n",
    "df[\"neighbourhood\"].value_counts(dropna=False)\n"
   ]
  },
  {
   "cell_type": "markdown",
   "metadata": {},
   "source": [
    "##### 1.m county cleanup"
   ]
  },
  {
   "cell_type": "code",
   "execution_count": null,
   "metadata": {},
   "outputs": [],
   "source": [
    "df[\"county\"] = \"mansour\"\n",
    "\n",
    "df[\"county\"].value_counts(dropna=False)\n"
   ]
  },
  {
   "cell_type": "markdown",
   "metadata": {},
   "source": [
    "##### 1.n street drop"
   ]
  },
  {
   "cell_type": "code",
   "execution_count": null,
   "metadata": {},
   "outputs": [],
   "source": [
    "df.drop(columns=[\"street\"], inplace=True)\n",
    "\n",
    "\"street\" not in df.columns\n"
   ]
  },
  {
   "cell_type": "markdown",
   "metadata": {},
   "source": [
    "##### 1.o frontage drop"
   ]
  },
  {
   "cell_type": "code",
   "execution_count": null,
   "metadata": {},
   "outputs": [],
   "source": [
    "df[\"wajiha\"] = df[\"wajiha\"].replace(\"-\", pd.NA)\n",
    "df[\"wajiha\"] = pd.to_numeric(df[\"wajiha\"], errors=\"coerce\")\n",
    "\n",
    "df.rename(columns={\"wajiha\": \"frontage\"}, inplace=True)\n",
    "\n",
    "df[\"frontage\"].value_counts(dropna=False).sort_index()\n"
   ]
  },
  {
   "cell_type": "markdown",
   "metadata": {},
   "source": [
    "##### 1.p sqmt_street drop"
   ]
  },
  {
   "cell_type": "code",
   "execution_count": null,
   "metadata": {},
   "outputs": [],
   "source": [
    "df.drop(columns=[\"sqmt_street\"], inplace=True)\n",
    "\n",
    "\"sqmt_street\" not in df.columns\n"
   ]
  },
  {
   "cell_type": "markdown",
   "metadata": {},
   "source": [
    "##### 1.q year_built drop"
   ]
  },
  {
   "cell_type": "code",
   "execution_count": null,
   "metadata": {},
   "outputs": [],
   "source": [
    "from datetime import datetime\n",
    "\n",
    "current_year = 2024\n",
    "\n",
    "year_replacements = {\n",
    "    \"1 - 5\": current_year - 3,\n",
    "    \"10 - 19\": current_year - 15,\n",
    "    \"20 + years\": current_year - 20,\n",
    "    \"20 plus\": current_year - 20,\n",
    "    \"20+\": current_year - 20,\n",
    "    \"3 ago\": current_year - 3,\n",
    "    \"3 y o\": current_year - 3,\n",
    "    \"4 y o\": current_year - 4,\n",
    "    \"5 y ago\": current_year - 5,\n",
    "    \"6 - 9\": current_year - 7,\n",
    "    \"6-9 y/.ago\": current_year - 7\n",
    "}\n",
    "\n",
    "df[\"year_built\"] = df[\"year_built\"].astype(str).str.strip().str.lower()\n",
    "df[\"year_built\"] = df[\"year_built\"].replace(year_replacements)\n",
    "\n",
    "df[\"year_built\"] = pd.to_numeric(df[\"year_built\"], errors=\"coerce\")\n",
    "\n",
    "df[\"year_built\"].value_counts(dropna=False).sort_index()\n"
   ]
  },
  {
   "cell_type": "markdown",
   "metadata": {},
   "source": [
    "##### 1.q selling_price_per_meter_iqdr cleanup"
   ]
  },
  {
   "cell_type": "code",
   "execution_count": null,
   "metadata": {},
   "outputs": [],
   "source": [
    "df[\"selling_price_per_meter_iqdr\"] = df[\"selling_price_per_meter_iqdr\"].astype(str).str.replace(\",\", \"\", regex=False)\n",
    "\n",
    "df[\"selling_price_per_meter_iqdr\"] = pd.to_numeric(df[\"selling_price_per_meter_iqdr\"], errors=\"coerce\")\n",
    "\n",
    "df.loc[df[\"selling_price_per_meter_iqdr\"] > 100_000_000, \"selling_price_per_meter_iqdr\"] = (\n",
    "    df[\"selling_price_per_meter_iqdr\"] / 100\n",
    ")\n",
    "df[\"selling_price_per_meter_iqdr\"].dropna().unique()[:10]\n"
   ]
  },
  {
   "cell_type": "markdown",
   "metadata": {},
   "source": [
    "##### 1.q rent_price_iqdr cleanup"
   ]
  },
  {
   "cell_type": "code",
   "execution_count": null,
   "metadata": {},
   "outputs": [],
   "source": [
    "df[\"rent_price_iqdr\"] = df[\"rent_price_iqdr\"].astype(str).str.replace(\",\", \"\", regex=False)\n",
    "\n",
    "df[\"rent_price_iqdr\"] = pd.to_numeric(df[\"rent_price_iqdr\"], errors=\"coerce\")\n",
    "\n",
    "df[\"rent_price_iqdr\"].dropna().unique()[:10]\n"
   ]
  },
  {
   "cell_type": "markdown",
   "metadata": {},
   "source": [
    "##### 1.q selling_price_per_meter_usd cleanup"
   ]
  },
  {
   "cell_type": "code",
   "execution_count": null,
   "metadata": {},
   "outputs": [],
   "source": [
    "df[\"selling_price_per_meter_usd\"] = pd.to_numeric(df[\"selling_price_per_meter_usd\"], errors=\"coerce\")\n",
    "\n",
    "df.loc[df[\"selling_price_per_meter_usd\"] > 30000, \"selling_price_per_meter_usd\"] /= 100\n",
    "\n",
    "df[\"selling_price_per_meter_usd\"].dropna().unique()[:10]\n"
   ]
  },
  {
   "cell_type": "markdown",
   "metadata": {},
   "source": [
    "##### 1.s area_type cleanup"
   ]
  },
  {
   "cell_type": "code",
   "execution_count": null,
   "metadata": {},
   "outputs": [],
   "source": [
    "\n",
    "df[\"area_type\"] = df[\"area_type\"].fillna(\"unknown\")\n",
    "\n",
    "df[\"area_type\"].value_counts()\n"
   ]
  },
  {
   "cell_type": "markdown",
   "metadata": {},
   "source": [
    "##### 1.s  drop columns"
   ]
  },
  {
   "cell_type": "code",
   "execution_count": null,
   "metadata": {},
   "outputs": [],
   "source": [
    "columns_to_drop = [\"wajiha\", \"street\", \"sqmt_street\"]\n",
    "df.drop(columns=[col for col in columns_to_drop if col in df.columns], inplace=True)\n",
    "\n",
    "[col for col in columns_to_drop if col in df.columns]\n"
   ]
  },
  {
   "cell_type": "markdown",
   "metadata": {},
   "source": [
    "### saving the cleaned dataset \n",
    "#### saving it in interim"
   ]
  },
  {
   "cell_type": "code",
   "execution_count": null,
   "metadata": {},
   "outputs": [],
   "source": [
    "cleaned_file_path = \"/Users/zahra/Desktop/ChronusMLOps/data/interim/cleaned_baghdad_mansour_houses.csv\"\n",
    "\n",
    "import os\n",
    "os.makedirs(\"/Users/zahra/Desktop/ChronusMLOps/data/interim\", exist_ok=True)\n",
    "df.to_csv(cleaned_file_path, index=False)\n",
    "\n",
    "cleaned_file_path"
   ]
  },
  {
   "cell_type": "markdown",
   "metadata": {},
   "source": [
    "#### splitting it for rent and sale "
   ]
  },
  {
   "cell_type": "code",
   "execution_count": null,
   "metadata": {},
   "outputs": [],
   "source": [
    "df = pd.read_csv(\"/Users/zahra/Desktop/ChronusMLOps/data/interim/cleaned_baghdad_mansour_houses.csv\")\n",
    "\n",
    "df_rent_v1 = df[df[\"category\"] == \"rent\"].copy()\n",
    "df_sale_v1 = df[df[\"category\"] == \"sale\"].copy()\n",
    "\n",
    "os.makedirs(\"/Users/zahra/Desktop/ChronusMLOps/data/interim\", exist_ok=True)\n",
    "df_rent_v1.to_csv(\"/Users/zahra/Desktop/ChronusMLOps/data/interim/rent_v1.csv\", index=False)\n",
    "df_sale_v1.to_csv(\"/Users/zahra/Desktop/ChronusMLOps/data/interim/sale_v1.csv\", index=False)\n",
    "\n",
    "\"/Users/zahra/Desktop/ChronusMLOps/data/interim/rent_v1.csv\", \"/Users/zahra/Desktop/ChronusMLOps/data/interim/sale_v1.csv\"\n"
   ]
  },
  {
   "cell_type": "markdown",
   "metadata": {},
   "source": [
    "#### converting rent to usd "
   ]
  },
  {
   "cell_type": "code",
   "execution_count": 4,
   "metadata": {},
   "outputs": [],
   "source": [
    "import pandas as pd\n",
    "import os\n",
    "\n",
    "df = pd.read_csv(\"/Users/zahra/Desktop/ChronusMLOps/data/interim/cleaned_baghdad_mansour_houses.csv\")\n",
    "\n",
    "df_rent_v1 = df[df[\"category\"] == \"rent\"].copy()\n",
    "df_sale_v1 = df[df[\"category\"] == \"sale\"].copy()\n",
    "\n",
    "os.makedirs(\"/Users/zahra/Desktop/ChronusMLOps/data/interim\", exist_ok=True)\n",
    "df_rent_v1.to_csv(\"/Users/zahra/Desktop/ChronusMLOps/data/interim/rent_v1.csv\", index=False)\n",
    "df_sale_v1.to_csv(\"/Users/zahra/Desktop/ChronusMLOps/data/interim/sale_v1.csv\", index=False)\n",
    "\n",
    "df_rent_v1[\"final_rent_price_usd\"] = df_rent_v1[\"rent_price_usd\"].fillna(\n",
    "    df_rent_v1[\"rent_price_iqdr\"] / 1500\n",
    ")\n",
    "\n",
    "df_rent_v1.to_csv(\"/Users/zahra/Desktop/ChronusMLOps/data/interim/rent_v2.csv\", index=False)\n"
   ]
  },
  {
   "cell_type": "code",
   "execution_count": null,
   "metadata": {},
   "outputs": [],
   "source": [
    "import pandas as pd\n",
    "\n",
    "# Load the rent_v2 dataset\n",
    "df_rent_v2 = pd.read_csv(\"/Users/zahra/Desktop/ChronusMLOps/data/interim/rent_v2.csv\")\n",
    "\n",
    "# 1. Display sample of the column\n",
    "print(\"\\n🎯 Sample Values:\")\n",
    "print(df_rent_v2[\"final_rent_price_usd\"].dropna().head(10))\n",
    "\n",
    "# 2. Count missing values\n",
    "print(\"\\n❗ Missing Values:\", df_rent_v2[\"final_rent_price_usd\"].isna().sum())\n",
    "\n",
    "# 3. Show distribution summary\n",
    "print(\"\\n📊 Price Summary:\")\n",
    "print(df_rent_v2[\"final_rent_price_usd\"].describe())\n"
   ]
  },
  {
   "cell_type": "code",
   "execution_count": null,
   "metadata": {},
   "outputs": [],
   "source": [
    "import pandas as pd\n",
    "import matplotlib.pyplot as plt\n",
    "import seaborn as sns\n",
    "\n",
    "# Load the rent_v2 dataset\n",
    "df_rent_v2 = pd.read_csv(\"/Users/zahra/Desktop/ChronusMLOps/data/interim/rent_v2.csv\")\n",
    "\n",
    "# Set up the plot\n",
    "plt.figure(figsize=(12, 5))\n",
    "\n",
    "# 1. Distribution plot\n",
    "plt.subplot(1, 2, 1)\n",
    "sns.histplot(df_rent_v2[\"final_rent_price_usd\"].dropna(), bins=30, kde=True, color=\"skyblue\")\n",
    "plt.title(\"Distribution of Final Rent Price (USD)\")\n",
    "plt.xlabel(\"Price (USD)\")\n",
    "plt.ylabel(\"Frequency\")\n",
    "\n",
    "# 2. Boxplot for outliers\n",
    "plt.subplot(1, 2, 2)\n",
    "sns.boxplot(x=df_rent_v2[\"final_rent_price_usd\"], color=\"salmon\")\n",
    "plt.title(\"Outlier Detection (Boxplot)\")\n",
    "plt.xlabel(\"Price (USD)\")\n",
    "\n",
    "plt.tight_layout()\n",
    "plt.show()\n"
   ]
  },
  {
   "cell_type": "code",
   "execution_count": null,
   "metadata": {},
   "outputs": [],
   "source": [
    "# Drop the specified sale-related columns from rent_v2\n",
    "df_rent_v2 = df_rent_v2.drop(columns=[\"selling_price_per_meter_usd\", \"selling_price_per_meter_iqdr\"], errors=\"ignore\")\n",
    "\n",
    "# Save back to the same file path\n",
    "df_rent_v2.to_csv(\"/Users/zahra/Desktop/ChronusMLOps/data/interim/rent_v2.csv\", index=False)\n",
    "\n",
    "\"/Users/zahra/Desktop/ChronusMLOps/data/interim/rent_v2.csv\"\n"
   ]
  },
  {
   "cell_type": "code",
   "execution_count": null,
   "metadata": {},
   "outputs": [],
   "source": [
    "# Drop the specified sale-related columns from rent_v2\n",
    "df_rent_v2 = df_rent_v2.drop(columns=[\"rent_price_iqdr\", \"rent_price_usd \"], errors=\"ignore\")\n",
    "\n",
    "# Save back to the same file path\n",
    "df_rent_v2.to_csv(\"/Users/zahra/Desktop/ChronusMLOps/data/interim/rent_v2.csv\", index=False)\n",
    "\n",
    "\"/Users/zahra/Desktop/ChronusMLOps/data/interim/rent_v2.csv\"\n"
   ]
  },
  {
   "cell_type": "code",
   "execution_count": 12,
   "metadata": {},
   "outputs": [],
   "source": [
    "# Load the re-uploaded rent_v2 file\n",
    "df_rent_v2 = pd.read_csv(\"/Users/zahra/Desktop/ChronusMLOps/data/interim/rent_v2.csv\")\n",
    "\n",
    "# Drop the specified columns\n",
    "columns_to_drop = [\"rent_price_usd\", \"rent_price_iqdr\", \"balcony\", \"neighbourhood\", \"frontage\"]\n",
    "df_rent_v3 = df_rent_v2.drop(columns=[col for col in columns_to_drop if col in df_rent_v2.columns], errors=\"ignore\")\n",
    "\n",
    "# Save the new version as rent_v3.csv\n",
    "df_rent_v3.to_csv(\"/Users/zahra/Desktop/ChronusMLOps/data/interim/rent_v3.csv\", index=False)\n"
   ]
  },
  {
   "cell_type": "markdown",
   "metadata": {},
   "source": [
    "Simple Data Cleaning for rent_v4.csv\n",
    "This cell:\n",
    "• Drops useless columns\n",
    "• Fills missing numerics with mean\n",
    "• Fills missing categoricals with mode\n",
    "• One-hot encodes categoricals\n",
    "• Saves cleaned dataset as rent_v4.csv"
   ]
  },
  {
   "cell_type": "code",
   "execution_count": null,
   "metadata": {},
   "outputs": [],
   "source": [
    "# 📦 Imports\n",
    "import pandas as pd\n",
    "import numpy as np\n",
    "\n",
    "# 📂 Load raw dataset\n",
    "df = pd.read_csv(\"../data/interim/rent_v3.csv\")\n",
    "\n",
    "# 🚮 Drop useless columns\n",
    "cols_to_drop = [\"ID\", \"county\", \"area_type\"]\n",
    "df = df.drop(columns=cols_to_drop, errors=\"ignore\")\n",
    "\n",
    "# 🔧 Fill missing numeric columns with mean\n",
    "numeric_cols = df.select_dtypes(include=\"number\").columns\n",
    "df[numeric_cols] = df[numeric_cols].fillna(df[numeric_cols].mean())\n",
    "\n",
    "# 🔧 Fill missing categorical columns with mode\n",
    "categorical_cols = df.select_dtypes(include=\"object\").columns\n",
    "for col in categorical_cols:\n",
    "    df[col] = df[col].fillna(df[col].mode()[0])\n",
    "\n",
    "# 🏷️ One-hot encode categoricals\n",
    "df = pd.get_dummies(df, drop_first=True)\n",
    "\n",
    "# 💾 Save cleaned dataset\n",
    "CLEANED_PATH = \"../data/interim/rent_v4.csv\"\n",
    "df.to_csv(CLEANED_PATH, index=False)\n",
    "\n",
    "print(f\"✅ rent_v4.csv saved at {CLEANED_PATH} — {df.shape[0]} rows, {df.shape[1]} features.\")\n"
   ]
  },
  {
   "cell_type": "markdown",
   "metadata": {},
   "source": [
    "## 5: Outlier Removal – Clean rent_v4.csv to rent_v5.csv\n",
    "\n",
    "- Removed top 1% and bottom 1% extreme values in `final_rent_price_usd`\n",
    "- Removed extreme large properties in `sqmt_living`\n",
    "- Saved the result as `rent_v5.csv`\n"
   ]
  },
  {
   "cell_type": "code",
   "execution_count": null,
   "metadata": {},
   "outputs": [],
   "source": [
    "df = pd.read_csv(\"../data/interim/rent_v4.csv\")\n",
    "\n",
    "lower_price = df[\"final_rent_price_usd\"].quantile(0.01)\n",
    "upper_price = df[\"final_rent_price_usd\"].quantile(0.99)\n",
    "df = df[(df[\"final_rent_price_usd\"] >= lower_price) & (df[\"final_rent_price_usd\"] <= upper_price)]\n",
    "\n",
    "upper_sqmt = df[\"sqmt_living\"].quantile(0.99)\n",
    "df = df[df[\"sqmt_living\"] <= upper_sqmt]\n",
    "\n",
    "CLEANED_PATH = \"../data/interim/rent_v5.csv\"\n",
    "df.to_csv(CLEANED_PATH, index=False)\n",
    "\n",
    "print(f\"rent_v5.csv saved — {df.shape[0]} rows, {df.shape[1]} features after outlier removal.\")\n"
   ]
  },
  {
   "cell_type": "markdown",
   "metadata": {},
   "source": [
    "\n",
    "- Dropped columns:\n",
    "  - `floor_apartment`\n",
    "  - `listing_date`\n",
    "  - `condition`\n",
    "  - `view`\n",
    "- Goal: Reduce noise and instability before final modeling\n",
    "- Saved cleaned dataset as `rent_v6.csv`\n"
   ]
  },
  {
   "cell_type": "code",
   "execution_count": null,
   "metadata": {},
   "outputs": [],
   "source": [
    "df = pd.read_csv(\"../data/interim/rent_v5.csv\")\n",
    "\n",
    "date_cols = [col for col in df.columns if col.startswith(\"listing_date_\")]\n",
    "df = df.drop(columns=date_cols)\n",
    "\n",
    "print(f\"Dropped {len(date_cols)} listing_date columns\")\n"
   ]
  },
  {
   "cell_type": "markdown",
   "metadata": {},
   "source": [
    "## 6: Extra Data Cleaning – rent_v7.csv\n",
    "\n",
    "- Started from `rent_v5.csv` (after outlier removal)\n",
    "- Dropped all `listing_date_*` one-hot columns\n",
    "- Goal: Simplify input features for cleaner modeling and easier deployment\n",
    "- Saved cleaned dataset as `rent_v7.csv`\n"
   ]
  },
  {
   "cell_type": "code",
   "execution_count": null,
   "metadata": {},
   "outputs": [],
   "source": [
    "df = pd.read_csv(\"../data/interim/rent_v5.csv\")\n",
    "\n",
    "date_cols = [col for col in df.columns if col.startswith(\"listing_date_\")]\n",
    "df = df.drop(columns=date_cols)\n",
    "\n",
    "print(f\"Dropped {len(date_cols)} listing_date columns.\")\n",
    "\n",
    "CLEANED_PATH = \"../data/interim/rent_v7.csv\"\n",
    "df.to_csv(CLEANED_PATH, index=False)\n",
    "\n",
    "print(f\"rent_v7.csv saved at {CLEANED_PATH} — {df.shape[0]} rows, {df.shape[1]} features now.\")\n"
   ]
  }
 ],
 "metadata": {
  "kernelspec": {
   "display_name": "mlflow_venv",
   "language": "python",
   "name": "python3"
  },
  "language_info": {
   "codemirror_mode": {
    "name": "ipython",
    "version": 3
   },
   "file_extension": ".py",
   "mimetype": "text/x-python",
   "name": "python",
   "nbconvert_exporter": "python",
   "pygments_lexer": "ipython3",
   "version": "3.13.2"
  }
 },
 "nbformat": 4,
 "nbformat_minor": 2
}
