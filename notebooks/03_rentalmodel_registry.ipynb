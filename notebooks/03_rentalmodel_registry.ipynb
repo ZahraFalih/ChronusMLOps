{
 "cells": [
  {
   "cell_type": "markdown",
   "metadata": {},
   "source": [
    "## Model Registration – BaghdadRentalModel\n",
    "\n",
    "Registered model:\n",
    "- Source: Best Run #8 (ridge_scaled_v5)\n",
    "- Experiment: Baghdad-Baseline-Models\n",
    "- MLflow Model Name: BaghdadRentalModel"
   ]
  },
  {
   "cell_type": "code",
   "execution_count": 2,
   "metadata": {},
   "outputs": [
    {
     "name": "stdout",
     "output_type": "stream",
     "text": [
      "Model registered as BaghdadRentalModel, Version: 1\n"
     ]
    },
    {
     "name": "stderr",
     "output_type": "stream",
     "text": [
      "Registered model 'BaghdadRentalModel' already exists. Creating a new version of this model...\n",
      "Created version '1' of model 'BaghdadRentalModel'.\n"
     ]
    }
   ],
   "source": [
    "import mlflow\n",
    "\n",
    "mlflow.set_tracking_uri(\"file:///Users/zahra/Desktop/ChronusMLOps/mlruns\")\n",
    "\n",
    "best_run_id = \"f3cdcc7007d04715b51b923cddfaa49a\"  \n",
    "\n",
    "registered_model_name = \"BaghdadRentalModel\"\n",
    "\n",
    "result = mlflow.register_model(\n",
    "    model_uri=f\"runs:/{best_run_id}/model\",\n",
    "    name=registered_model_name,\n",
    ")\n",
    "\n",
    "print(f\"Model registered as {registered_model_name}, Version: {result.version}\")\n"
   ]
  },
  {
   "cell_type": "markdown",
   "metadata": {},
   "source": [
    "## Model Registration – BaghdadRentalModel (v2)\n",
    "\n",
    "- Registered Run #11 (ridge_clean_v7)\n",
    "- Source: rent_v7.csv (cleaned, dates dropped)\n",
    "- RMSE: 885.62  |  R²: 0.41\n",
    "- Version: 2 of `BaghdadRentalModel`\n"
   ]
  },
  {
   "cell_type": "code",
   "execution_count": 4,
   "metadata": {},
   "outputs": [
    {
     "name": "stderr",
     "output_type": "stream",
     "text": [
      "Registered model 'BaghdadRentalModel' already exists. Creating a new version of this model...\n",
      "Created version '2' of model 'BaghdadRentalModel'.\n"
     ]
    },
    {
     "data": {
      "text/plain": [
       "<ModelVersion: aliases=[], creation_timestamp=1745918519038, current_stage='None', description=None, last_updated_timestamp=1745918519038, name='BaghdadRentalModel', run_id='fd0954aceff7401c8ed535e335b259de', run_link=None, source='file:///Users/zahra/Desktop/ChronusMLOps/mlruns/712145214163613216/fd0954aceff7401c8ed535e335b259de/artifacts/model', status='READY', status_message=None, tags={}, user_id=None, version=2>"
      ]
     },
     "execution_count": 4,
     "metadata": {},
     "output_type": "execute_result"
    }
   ],
   "source": [
    "import mlflow\n",
    "\n",
    "mlflow.set_tracking_uri(\"file:///Users/zahra/Desktop/ChronusMLOps/mlruns\")\n",
    "\n",
    "# register Run #11 (final model)\n",
    "mlflow.register_model(\n",
    "    model_uri=\"runs:/fd0954aceff7401c8ed535e335b259de/model\",\n",
    "    name=\"BaghdadRentalModel\"\n",
    ")"
   ]
  }
 ],
 "metadata": {
  "kernelspec": {
   "display_name": "mlflow_venv",
   "language": "python",
   "name": "python3"
  },
  "language_info": {
   "codemirror_mode": {
    "name": "ipython",
    "version": 3
   },
   "file_extension": ".py",
   "mimetype": "text/x-python",
   "name": "python",
   "nbconvert_exporter": "python",
   "pygments_lexer": "ipython3",
   "version": "3.13.2"
  }
 },
 "nbformat": 4,
 "nbformat_minor": 2
}
